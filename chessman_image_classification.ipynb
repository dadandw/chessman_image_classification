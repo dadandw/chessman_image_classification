{
  "nbformat": 4,
  "nbformat_minor": 0,
  "metadata": {
    "accelerator": "GPU",
    "colab": {
      "name": "dicod_ml_chessman.ipynb",
      "provenance": [],
      "collapsed_sections": []
    },
    "kernelspec": {
      "display_name": "Python 3",
      "name": "python3"
    },
    "language_info": {
      "name": "python"
    }
  },
  "cells": [
    {
      "cell_type": "markdown",
      "metadata": {
        "id": "u2mYmrlkCaN8"
      },
      "source": [
        "# Latihan Membuat Model Untuk Memprediksi Dataset Chessman"
      ]
    },
    {
      "cell_type": "markdown",
      "metadata": {
        "id": "5dPsp6tNCnb_"
      },
      "source": [
        "### Unduh Dataset :"
      ]
    },
    {
      "cell_type": "code",
      "metadata": {
        "colab": {
          "base_uri": "https://localhost:8080/"
        },
        "id": "ev9FVOCxCSpd",
        "outputId": "50dfd083-1d1d-4669-fc7b-31b4d54637cd"
      },
      "source": [
        "!wget --no-check-certificate \\\n",
        "https://dicodingacademy.blob.core.windows.net/picodiploma/ml_pengembangan_academy/Chessman-image-dataset.zip \\\n",
        "-O /tmp/Chessman-image-dataset.zip"
      ],
      "execution_count": null,
      "outputs": [
        {
          "output_type": "stream",
          "text": [
            "--2021-07-17 16:39:03--  https://dicodingacademy.blob.core.windows.net/picodiploma/ml_pengembangan_academy/Chessman-image-dataset.zip\n",
            "Resolving dicodingacademy.blob.core.windows.net (dicodingacademy.blob.core.windows.net)... 52.239.197.36\n",
            "Connecting to dicodingacademy.blob.core.windows.net (dicodingacademy.blob.core.windows.net)|52.239.197.36|:443... connected.\n",
            "HTTP request sent, awaiting response... 200 OK\n",
            "Length: 60684125 (58M) [application/zip]\n",
            "Saving to: ‘/tmp/Chessman-image-dataset.zip’\n",
            "\n",
            "/tmp/Chessman-image 100%[===================>]  57.87M  11.5MB/s    in 6.5s    \n",
            "\n",
            "2021-07-17 16:39:11 (8.94 MB/s) - ‘/tmp/Chessman-image-dataset.zip’ saved [60684125/60684125]\n",
            "\n"
          ],
          "name": "stdout"
        }
      ]
    },
    {
      "cell_type": "markdown",
      "metadata": {
        "id": "dInK20chDoym"
      },
      "source": [
        "### Ektrak Dataset\n",
        "\n",
        "melakukan ekstraksi terhadap dataset yang kita unduh karena dataset dalam bentuk file zip."
      ]
    },
    {
      "cell_type": "code",
      "metadata": {
        "id": "aTsOi7OADNDs"
      },
      "source": [
        "    import os\n",
        "    import zipfile\n",
        "    local_zip = '/tmp/Chessman-image-dataset.zip'\n",
        "    zip_ref = zipfile.ZipFile(local_zip, 'r')\n",
        "    zip_ref.extractall('/tmp')\n",
        "    zip_ref.close()"
      ],
      "execution_count": null,
      "outputs": []
    },
    {
      "cell_type": "markdown",
      "metadata": {
        "id": "Ly0K4FfeDyJf"
      },
      "source": [
        "Gunakan fungsi listdir dari kelas os untuk melihat direktori yang terdapat pada dataset. Dapat kita lihat bahwa terdapat 6 buah direktori pada dataset. Setiap direktori berisi gambar pion catur sesua dengan nama direktorinya"
      ]
    },
    {
      "cell_type": "code",
      "metadata": {
        "colab": {
          "base_uri": "https://localhost:8080/"
        },
        "id": "DVZ8ILZuDsGP",
        "outputId": "446b9ff9-4697-4bde-8742-135fc2e3c375"
      },
      "source": [
        "    os.listdir('/tmp/Chessman-image-dataset/Chess')"
      ],
      "execution_count": null,
      "outputs": [
        {
          "output_type": "execute_result",
          "data": {
            "text/plain": [
              "['Pawn', 'Rook', 'King', 'Knight', 'Bishop', 'Queen']"
            ]
          },
          "metadata": {
            "tags": []
          },
          "execution_count": 4
        }
      ]
    },
    {
      "cell_type": "markdown",
      "metadata": {
        "id": "2MvmouvyD7wH"
      },
      "source": [
        "Selanjutnya kita perlu melihat berapa banyak gambar pada setiap direktori. Dari output dapat dilihat bahwa jumlah sampel pada tiap direktori berbeda. Perlu diperhatikan juga dataset ini berukuran sangat kecil sehingga performa dari model mungkin tidak akan terlalu baik. Kita akan mencoba menggunakan augmentasi gambar untuk mengatasi masalah ini."
      ]
    },
    {
      "cell_type": "code",
      "metadata": {
        "colab": {
          "base_uri": "https://localhost:8080/"
        },
        "id": "DK60VQuoD1NN",
        "outputId": "165dd912-ba2e-4396-b994-c2e61ce30718"
      },
      "source": [
        "    print('total pawn images :', len(os.listdir('/tmp/Chessman-image-dataset/Chess/Pawn')))\n",
        "    print('total King images :', len(os.listdir('/tmp/Chessman-image-dataset/Chess/King')))\n",
        "    print('total Knight images :', len(os.listdir('/tmp/Chessman-image-dataset/Chess/Knight')))"
      ],
      "execution_count": null,
      "outputs": [
        {
          "output_type": "stream",
          "text": [
            "total pawn images : 107\n",
            "total King images : 76\n",
            "total Knight images : 106\n"
          ],
          "name": "stdout"
        }
      ]
    },
    {
      "cell_type": "markdown",
      "metadata": {
        "id": "fJOUDOB-EEau"
      },
      "source": [
        "Kita dapat melihat contoh dari sebuah gambar pada dataset dengan menjalankan kode di bawah"
      ]
    },
    {
      "cell_type": "code",
      "metadata": {
        "colab": {
          "base_uri": "https://localhost:8080/",
          "height": 240
        },
        "id": "42jcXvAFD_5H",
        "outputId": "b6dd2301-f15b-46b3-dcf7-82044d27d2bf"
      },
      "source": [
        "    from keras.preprocessing import image\n",
        "    import matplotlib.pyplot as plt\n",
        "    import matplotlib.image as mpimg\n",
        "    import matplotlib.pyplot as plt\n",
        "    import matplotlib.image as mpimg\n",
        "    %matplotlib inline\n",
        "    img = image.load_img('/tmp/Chessman-image-dataset/Chess/King/00000145.png')\n",
        "    imgplot = plt.imshow(img)"
      ],
      "execution_count": null,
      "outputs": [
        {
          "output_type": "display_data",
          "data": {
            "image/png": "[encoded data removed]",
            "text/plain": [
              "<Figure size 432x288 with 1 Axes>"
            ]
          },
          "metadata": {
            "tags": []
          }
        }
      ]
    },
    {
      "cell_type": "markdown",
      "metadata": {
        "id": "iCKajxCJEOlR"
      },
      "source": [
        "### Image Data Generator\n",
        "\n",
        "Selanjutnya kita impor ImageDataGenerator dan aplikasikan augmentasi gambar pada dataset kita. Perhatikan bahwa ada parameter yaitu validation split"
      ]
    },
    {
      "cell_type": "code",
      "metadata": {
        "id": "Rb_XLK6ZEHwU"
      },
      "source": [
        "    from tensorflow.keras.preprocessing.image import ImageDataGenerator\n",
        "     \n",
        "     \n",
        "    train_dir = os.path.join('/tmp/Chessman-image-dataset/Chess')\n",
        "    train_datagen = ImageDataGenerator(rescale=1./255,\n",
        "        rotation_range=20,\n",
        "        zoom_range=0.2,\n",
        "        shear_range=0.2,\n",
        "        fill_mode = 'nearest',\n",
        "        validation_split=0.1) # set validation split"
      ],
      "execution_count": null,
      "outputs": []
    },
    {
      "cell_type": "markdown",
      "metadata": {
        "id": "FTcgRNWrFFuD"
      },
      "source": [
        "Dataset yang kita miliki hanya terdiri dari 1 buah direktori dan tidak terbagi menjadi direktori training dan testing. Tapi tenang, dengan ImageDataGenerator kita tidak perlu susah payah membagi direktori secara manual, cukup dengan menggunakan parameter validation_split. Dengan parameter tersebut, kita hanya cukup memberi tahu ImageDataGenerator mana data untuk training dan mana data untuk testing dengan menambahkan parameter subset dengan nilai training atau validation."
      ]
    },
    {
      "cell_type": "code",
      "metadata": {
        "colab": {
          "base_uri": "https://localhost:8080/"
        },
        "id": "WlqUci0qEdyg",
        "outputId": "3c2e7b74-5a55-4554-c68f-1146b9727058"
      },
      "source": [
        "    train_generator = train_datagen.flow_from_directory(\n",
        "        train_dir,\n",
        "        target_size=(150, 150),\n",
        "        batch_size=8,\n",
        "        class_mode='categorical',\n",
        "        subset='training') # set as training data\n",
        "    validation_generator = train_datagen.flow_from_directory(\n",
        "        train_dir, # same directory as training data\n",
        "        target_size=(150, 150),\n",
        "        batch_size=16,\n",
        "        class_mode='categorical',\n",
        "        subset='validation')"
      ],
      "execution_count": null,
      "outputs": [
        {
          "output_type": "stream",
          "text": [
            "Found 499 images belonging to 6 classes.\n",
            "Found 52 images belonging to 6 classes.\n"
          ],
          "name": "stdout"
        }
      ]
    },
    {
      "cell_type": "markdown",
      "metadata": {
        "id": "oDW4p3N4Fvyq"
      },
      "source": [
        "### Arsitektur Model Sequential\n",
        "\n",
        "Selanjutnya, kita buat arsitektur dari model kita. Untuk model ini kita menggunakan 3 lapis convolution dan 2 hidden layer dengan 512 dan 256 buah unit perseptron."
      ]
    },
    {
      "cell_type": "code",
      "metadata": {
        "id": "RhhOvT7JFnfN"
      },
      "source": [
        "    import tensorflow as tf\n",
        "    model = tf.keras.models.Sequential([\n",
        "        # Note the input shape is the desired size of the image 150x150 with 3 bytes color\n",
        "        tf.keras.layers.Conv2D(64, (3,3), activation='relu', input_shape=(150, 150, 3)),\n",
        "        tf.keras.layers.MaxPooling2D(2,2),\n",
        "        tf.keras.layers.Conv2D(32, (3,3), activation='relu'),\n",
        "        tf.keras.layers.MaxPooling2D(2,2),\n",
        "        tf.keras.layers.Dropout(0.4),  \n",
        "        tf.keras.layers.Conv2D(64, (3,3), activation='relu'), \n",
        "        tf.keras.layers.MaxPooling2D(2,2),\n",
        "        tf.keras.layers.Dropout(0.4),  \n",
        "        # Flatten the results to feed into a DNN\n",
        "        tf.keras.layers.Flatten(), \n",
        "        # 512 neuron hidden layer\n",
        "        tf.keras.layers.Dense(512, activation='relu'),\n",
        "        tf.keras.layers.Dense(256, activation='relu'),\n",
        "        # Only 1 output neuron. It will contain a value from 0-1 where 0 for 1 class ('cats') and 1 for the other ('dogs')\n",
        "        tf.keras.layers.Dense(6, activation='softmax')  \n",
        "    ])"
      ],
      "execution_count": null,
      "outputs": []
    },
    {
      "cell_type": "markdown",
      "metadata": {
        "id": "-s84ApNnGGe3"
      },
      "source": [
        "### Optimizer dan Loss\n",
        "\n",
        "Setelah arsitektur dibuat, tentukan optimizer dan loss yang akan digunakan mo"
      ]
    },
    {
      "cell_type": "code",
      "metadata": {
        "id": "zwHD941yF4rV"
      },
      "source": [
        "    model.compile(optimizer=tf.optimizers.Adam(),\n",
        "                  loss='categorical_crossentropy',\n",
        "                  metrics = ['accuracy'])"
      ],
      "execution_count": null,
      "outputs": []
    },
    {
      "cell_type": "markdown",
      "metadata": {
        "id": "JjSV93K3GVSO"
      },
      "source": [
        "### Melatih Model\n",
        "\n",
        "Terakhir, panggil fungsi fit untuk melatih model kita."
      ]
    },
    {
      "cell_type": "code",
      "metadata": {
        "colab": {
          "base_uri": "https://localhost:8080/"
        },
        "id": "IQCkopTKGST3",
        "outputId": "d0b4ab90-8a8f-45d4-fee6-25cdd2b83e81"
      },
      "source": [
        "    history = model.fit(train_generator,\n",
        "                                  validation_data=validation_generator,\n",
        "                                  epochs=50,\n",
        "                                  batch_size=128,\n",
        "                                  verbose=2)"
      ],
      "execution_count": null,
      "outputs": [
        {
          "output_type": "stream",
          "text": [
            "Epoch 1/50\n",
            "63/63 - 41s - loss: 1.8735 - accuracy: 0.1523 - val_loss: 1.7849 - val_accuracy: 0.1923\n",
            "Epoch 2/50\n",
            "63/63 - 9s - loss: 1.7879 - accuracy: 0.1824 - val_loss: 1.7811 - val_accuracy: 0.1923\n",
            "Epoch 3/50\n",
            "63/63 - 10s - loss: 1.7817 - accuracy: 0.1904 - val_loss: 1.7727 - val_accuracy: 0.1923\n",
            "Epoch 4/50\n",
            "63/63 - 10s - loss: 1.7820 - accuracy: 0.2144 - val_loss: 1.7800 - val_accuracy: 0.1731\n",
            "Epoch 5/50\n",
            "63/63 - 9s - loss: 1.7545 - accuracy: 0.2265 - val_loss: 1.7698 - val_accuracy: 0.2115\n",
            "Epoch 6/50\n",
            "63/63 - 9s - loss: 1.7279 - accuracy: 0.2766 - val_loss: 1.6991 - val_accuracy: 0.3077\n",
            "Epoch 7/50\n",
            "63/63 - 9s - loss: 1.6855 - accuracy: 0.2866 - val_loss: 1.6760 - val_accuracy: 0.3269\n",
            "Epoch 8/50\n",
            "63/63 - 9s - loss: 1.5575 - accuracy: 0.3527 - val_loss: 1.6840 - val_accuracy: 0.3462\n",
            "Epoch 9/50\n",
            "63/63 - 9s - loss: 1.6182 - accuracy: 0.3447 - val_loss: 1.7017 - val_accuracy: 0.2692\n",
            "Epoch 10/50\n",
            "63/63 - 10s - loss: 1.4970 - accuracy: 0.4008 - val_loss: 1.5814 - val_accuracy: 0.3462\n",
            "Epoch 11/50\n",
            "63/63 - 9s - loss: 1.4592 - accuracy: 0.3908 - val_loss: 1.5750 - val_accuracy: 0.2885\n",
            "Epoch 12/50\n",
            "63/63 - 9s - loss: 1.4375 - accuracy: 0.4208 - val_loss: 1.6694 - val_accuracy: 0.3077\n",
            "Epoch 13/50\n",
            "63/63 - 9s - loss: 1.3063 - accuracy: 0.4729 - val_loss: 1.6274 - val_accuracy: 0.3654\n",
            "Epoch 14/50\n",
            "63/63 - 9s - loss: 1.2903 - accuracy: 0.5130 - val_loss: 1.5180 - val_accuracy: 0.3077\n",
            "Epoch 15/50\n",
            "63/63 - 9s - loss: 1.2522 - accuracy: 0.4990 - val_loss: 1.6504 - val_accuracy: 0.3269\n",
            "Epoch 16/50\n",
            "63/63 - 9s - loss: 1.2529 - accuracy: 0.5291 - val_loss: 1.4259 - val_accuracy: 0.4231\n",
            "Epoch 17/50\n",
            "63/63 - 9s - loss: 1.1982 - accuracy: 0.5351 - val_loss: 1.5104 - val_accuracy: 0.3846\n",
            "Epoch 18/50\n",
            "63/63 - 10s - loss: 1.1543 - accuracy: 0.5511 - val_loss: 1.6786 - val_accuracy: 0.3654\n",
            "Epoch 19/50\n",
            "63/63 - 10s - loss: 1.1927 - accuracy: 0.5431 - val_loss: 1.3644 - val_accuracy: 0.4423\n",
            "Epoch 20/50\n",
            "63/63 - 9s - loss: 1.1556 - accuracy: 0.5251 - val_loss: 1.4798 - val_accuracy: 0.4231\n",
            "Epoch 21/50\n",
            "63/63 - 10s - loss: 1.0749 - accuracy: 0.5872 - val_loss: 1.5385 - val_accuracy: 0.3654\n",
            "Epoch 22/50\n",
            "63/63 - 10s - loss: 1.0059 - accuracy: 0.6493 - val_loss: 1.5028 - val_accuracy: 0.3462\n",
            "Epoch 23/50\n",
            "63/63 - 9s - loss: 1.0292 - accuracy: 0.5952 - val_loss: 1.5281 - val_accuracy: 0.3654\n",
            "Epoch 24/50\n",
            "63/63 - 9s - loss: 0.9876 - accuracy: 0.6152 - val_loss: 1.4126 - val_accuracy: 0.3846\n",
            "Epoch 25/50\n",
            "63/63 - 9s - loss: 0.9248 - accuracy: 0.6493 - val_loss: 1.4688 - val_accuracy: 0.4615\n",
            "Epoch 26/50\n",
            "63/63 - 9s - loss: 0.8117 - accuracy: 0.6754 - val_loss: 1.5579 - val_accuracy: 0.4231\n",
            "Epoch 27/50\n",
            "63/63 - 9s - loss: 0.8992 - accuracy: 0.6834 - val_loss: 1.3926 - val_accuracy: 0.5192\n",
            "Epoch 28/50\n",
            "63/63 - 10s - loss: 0.8392 - accuracy: 0.7034 - val_loss: 1.3593 - val_accuracy: 0.4615\n",
            "Epoch 29/50\n",
            "63/63 - 10s - loss: 0.8284 - accuracy: 0.6834 - val_loss: 1.8363 - val_accuracy: 0.2885\n",
            "Epoch 30/50\n",
            "63/63 - 9s - loss: 0.8260 - accuracy: 0.6954 - val_loss: 1.6085 - val_accuracy: 0.3462\n",
            "Epoch 31/50\n",
            "63/63 - 9s - loss: 0.7574 - accuracy: 0.7154 - val_loss: 1.6269 - val_accuracy: 0.3269\n",
            "Epoch 32/50\n",
            "63/63 - 9s - loss: 0.7929 - accuracy: 0.7255 - val_loss: 1.3488 - val_accuracy: 0.5192\n",
            "Epoch 33/50\n",
            "63/63 - 9s - loss: 0.6687 - accuracy: 0.7635 - val_loss: 1.4273 - val_accuracy: 0.4038\n",
            "Epoch 34/50\n",
            "63/63 - 9s - loss: 0.6860 - accuracy: 0.7375 - val_loss: 1.7028 - val_accuracy: 0.4231\n",
            "Epoch 35/50\n",
            "63/63 - 10s - loss: 0.7253 - accuracy: 0.7234 - val_loss: 1.4607 - val_accuracy: 0.3846\n",
            "Epoch 36/50\n",
            "63/63 - 10s - loss: 0.6392 - accuracy: 0.7715 - val_loss: 1.4744 - val_accuracy: 0.4615\n",
            "Epoch 37/50\n",
            "63/63 - 9s - loss: 0.6423 - accuracy: 0.7635 - val_loss: 1.6049 - val_accuracy: 0.4808\n",
            "Epoch 38/50\n",
            "63/63 - 9s - loss: 0.6338 - accuracy: 0.7756 - val_loss: 1.4422 - val_accuracy: 0.4423\n",
            "Epoch 39/50\n",
            "63/63 - 9s - loss: 0.5856 - accuracy: 0.7896 - val_loss: 1.3662 - val_accuracy: 0.4615\n",
            "Epoch 40/50\n",
            "63/63 - 9s - loss: 0.5390 - accuracy: 0.8076 - val_loss: 1.6540 - val_accuracy: 0.4423\n",
            "Epoch 41/50\n",
            "63/63 - 9s - loss: 0.6501 - accuracy: 0.7816 - val_loss: 1.4996 - val_accuracy: 0.4615\n",
            "Epoch 42/50\n",
            "63/63 - 10s - loss: 0.5216 - accuracy: 0.8096 - val_loss: 1.5337 - val_accuracy: 0.4423\n",
            "Epoch 43/50\n",
            "63/63 - 10s - loss: 0.5389 - accuracy: 0.7936 - val_loss: 1.5276 - val_accuracy: 0.3846\n",
            "Epoch 44/50\n",
            "63/63 - 10s - loss: 0.4696 - accuracy: 0.8537 - val_loss: 1.6594 - val_accuracy: 0.4808\n",
            "Epoch 45/50\n",
            "63/63 - 9s - loss: 0.5173 - accuracy: 0.8216 - val_loss: 1.5175 - val_accuracy: 0.5192\n",
            "Epoch 46/50\n",
            "63/63 - 9s - loss: 0.4899 - accuracy: 0.8337 - val_loss: 1.4757 - val_accuracy: 0.4615\n",
            "Epoch 47/50\n",
            "63/63 - 9s - loss: 0.4591 - accuracy: 0.8196 - val_loss: 1.5829 - val_accuracy: 0.4423\n",
            "Epoch 48/50\n",
            "63/63 - 9s - loss: 0.3967 - accuracy: 0.8697 - val_loss: 1.3744 - val_accuracy: 0.4423\n",
            "Epoch 49/50\n",
            "63/63 - 10s - loss: 0.4145 - accuracy: 0.8457 - val_loss: 1.8519 - val_accuracy: 0.4423\n",
            "Epoch 50/50\n",
            "63/63 - 10s - loss: 0.4684 - accuracy: 0.8377 - val_loss: 1.5583 - val_accuracy: 0.3846\n"
          ],
          "name": "stdout"
        }
      ]
    },
    {
      "cell_type": "markdown",
      "metadata": {
        "id": "Ff9NH0FrPxD5"
      },
      "source": [
        "### Membuat Plot Akurasi dan Loss"
      ]
    },
    {
      "cell_type": "markdown",
      "metadata": {
        "id": "6oRr0AwTP6jg"
      },
      "source": [
        "Anda juga dapat membuat plot akurasi dari model"
      ]
    },
    {
      "cell_type": "code",
      "metadata": {
        "colab": {
          "base_uri": "https://localhost:8080/",
          "height": 295
        },
        "id": "YBZhwsABGgy-",
        "outputId": "1930b7c9-c845-4352-b748-7c57f06aff27"
      },
      "source": [
        "    import matplotlib.pyplot as plt\n",
        "    plt.plot(history.history['accuracy'])\n",
        "    plt.plot(history.history['val_accuracy'])\n",
        "    plt.title('Akurasi Model')\n",
        "    plt.ylabel('accuracy')\n",
        "    plt.xlabel('epoch')\n",
        "    plt.legend(['train', 'test'], loc='upper left')\n",
        "    plt.show()"
      ],
      "execution_count": null,
      "outputs": [
        {
          "output_type": "display_data",
          "data": {
            "image/png": "[encoded data removed]",
            "text/plain": [
              "<Figure size 432x288 with 1 Axes>"
            ]
          },
          "metadata": {
            "tags": []
          }
        }
      ]
    },
    {
      "cell_type": "markdown",
      "metadata": {
        "id": "trtdjrpGQCOW"
      },
      "source": [
        "Untuk membuat plot loss Anda cukup menjalankan kode berikut."
      ]
    },
    {
      "cell_type": "code",
      "metadata": {
        "colab": {
          "base_uri": "https://localhost:8080/",
          "height": 295
        },
        "id": "9ldOKmBcP-Pa",
        "outputId": "8ef68775-ae7a-4c8f-fbf5-41ac6718e04c"
      },
      "source": [
        "    plt.plot(history.history['loss'])\n",
        "    plt.plot(history.history['val_loss'])\n",
        "    plt.title('Loss Model')\n",
        "    plt.ylabel('loss')\n",
        "    plt.xlabel('epoch')\n",
        "    plt.legend(['train', 'test'], loc='upper left')\n",
        "    plt.show()"
      ],
      "execution_count": null,
      "outputs": [
        {
          "output_type": "display_data",
          "data": {
            "image/png": "[encoded data removed]",
            "text/plain": [
              "<Figure size 432x288 with 1 Axes>"
            ]
          },
          "metadata": {
            "tags": []
          }
        }
      ]
    },
    {
      "cell_type": "markdown",
      "metadata": {
        "id": "wSm6BlbvQJDv"
      },
      "source": [
        "Kita sudah berhasil mengembangkan model untuk mengklasifikasikan dataset yang sangat variatif. Akurasi yang didapat sekitar 50% di mana model akan membuat sekitar 50 persen prediksi yang salah. "
      ]
    },
    {
      "cell_type": "markdown",
      "metadata": {
        "id": "GCq1N94RSPx9"
      },
      "source": [
        "# Transfer Learning"
      ]
    },
    {
      "cell_type": "markdown",
      "metadata": {
        "id": "pG95rgYpSV9O"
      },
      "source": [
        "disini kita mulai mengimplementasikan transfer learning. Untuk model yang kita pilih sebagai model dasar transfer learning adalah ResNet152V2. Model ResNet152V2 memiliki sebanyak 152 layer dan tersedia di library keras. Kita dapat memanfaatkan fitur-fitur yang telah dipelajari oleh model tersebut untuk dipakai model kita. \n",
        "\n",
        "Untuk mengimplementasikan transfer learning sangatlah mudah seperti kode di bawah. Kita hanya perlu menambahkan 2 buah baris kode berbeda. Layer pertama pada model kita adalah model yang kita pakai untuk transfer learning. Kita cukup memanggil kelas ResNet152V2 dan mengisi parameter sebagai berikut:\n",
        "\n",
        "    Weight : ini adalah bobot atau parameter seperti yang telah dibahas pada kelas machine learning pemula. Untuk parameter weight kita mengisi nilai ‘imagenet’. Artinya kita ingin menggunakan model ResNet152V2 yang telah dilatih pada dataset imagenet. Imagenet adalah sebuah database raksasa yang berisi lebih dari 14 juta gambar.\n",
        "    Include_top : parameter ini bernilai boolean. Maksud dari parameter ini apabila kita ingin tetap memakai layer terakhir/layer prediksi dari model resnet. Kita isi false karena kita memakai model resnet untuk memprediksi dataset chessman bukan imagenet.\n",
        "    Input_tensor : sesuai namanya parameter ini menspesifikasikan ukuran dari input."
      ]
    },
    {
      "cell_type": "code",
      "metadata": {
        "colab": {
          "base_uri": "https://localhost:8080/"
        },
        "id": "wtQTM1rhSSv5",
        "outputId": "db0a3349-ead0-4530-ff83-07d3762b020e"
      },
      "source": [
        "    import tensorflow as tf\n",
        "    from tensorflow.keras.layers import Input\n",
        "    from tensorflow.keras.applications import ResNet50\n",
        "    from tensorflow.keras.applications import ResNet152V2\n",
        "    model = tf.keras.models.Sequential([\n",
        "        ResNet152V2(weights=\"imagenet\", include_top=False, input_tensor=Input(shape=(150, 150, 3))),\n",
        "        # tf.keras.layers.Dropout(0.4),\n",
        "        tf.keras.layers.Flatten(), \n",
        "        tf.keras.layers.Dense(512, activation='relu'),\n",
        "        tf.keras.layers.Dense(256, activation='relu'),\n",
        "        tf.keras.layers.Dense(6, activation='softmax')  \n",
        "    ])\n",
        "    model.layers[0].trainable = False"
      ],
      "execution_count": null,
      "outputs": [
        {
          "output_type": "stream",
          "text": [
            "Downloading data from https://storage.googleapis.com/tensorflow/keras-applications/resnet/resnet152v2_weights_tf_dim_ordering_tf_kernels_notop.h5\n",
            "234553344/234545216 [==============================] - 2s 0us/step\n"
          ],
          "name": "stdout"
        }
      ]
    },
    {
      "cell_type": "markdown",
      "metadata": {
        "id": "daDDRyRhShMO"
      },
      "source": [
        "Lanjutkan dengan menentukan optimizer, loss, serta metrik yang ingin digunakan pada model."
      ]
    },
    {
      "cell_type": "code",
      "metadata": {
        "id": "bTsxPLe-SbQS"
      },
      "source": [
        "    model.compile(optimizer=tf.optimizers.Adam(),\n",
        "                  loss='categorical_crossentropy',\n",
        "                  metrics = ['accuracy'])"
      ],
      "execution_count": null,
      "outputs": []
    },
    {
      "cell_type": "markdown",
      "metadata": {
        "id": "ErRUEeBSSkfG"
      },
      "source": [
        "Terakhir kita dapat melakukan pelatihan model. "
      ]
    },
    {
      "cell_type": "code",
      "metadata": {
        "colab": {
          "background_save": true,
          "base_uri": "https://localhost:8080/"
        },
        "id": "0RTzbGlGSj4H",
        "outputId": "5c3a375a-fde2-4c1b-a310-daa9731002c9"
      },
      "source": [
        "    history = model.fit(train_generator,\n",
        "                                  validation_data=validation_generator,\n",
        "                                  epochs=50,\n",
        "                                  batch_size=128,\n",
        "                                  verbose=2)"
      ],
      "execution_count": null,
      "outputs": [
        {
          "output_type": "stream",
          "text": [
            "Epoch 1/50\n",
            "63/63 - 102s - loss: 8.1700 - accuracy: 0.4509 - val_loss: 1.3381 - val_accuracy: 0.6346\n",
            "Epoch 2/50\n",
            "63/63 - 91s - loss: 1.9755 - accuracy: 0.6613 - val_loss: 1.0444 - val_accuracy: 0.7115\n",
            "Epoch 3/50\n",
            "63/63 - 92s - loss: 1.5305 - accuracy: 0.7074 - val_loss: 1.6298 - val_accuracy: 0.7308\n",
            "Epoch 4/50\n",
            "63/63 - 91s - loss: 1.6295 - accuracy: 0.7134 - val_loss: 1.2373 - val_accuracy: 0.6538\n",
            "Epoch 5/50\n",
            "63/63 - 90s - loss: 0.7213 - accuracy: 0.8036 - val_loss: 1.2074 - val_accuracy: 0.7308\n",
            "Epoch 6/50\n",
            "63/63 - 90s - loss: 0.7294 - accuracy: 0.8116 - val_loss: 1.6492 - val_accuracy: 0.6538\n",
            "Epoch 7/50\n",
            "63/63 - 90s - loss: 0.5675 - accuracy: 0.8798 - val_loss: 0.7785 - val_accuracy: 0.7885\n",
            "Epoch 8/50\n",
            "63/63 - 90s - loss: 0.3568 - accuracy: 0.8918 - val_loss: 0.6000 - val_accuracy: 0.7885\n",
            "Epoch 9/50\n",
            "63/63 - 90s - loss: 0.4381 - accuracy: 0.9058 - val_loss: 1.4620 - val_accuracy: 0.7692\n",
            "Epoch 10/50\n",
            "63/63 - 90s - loss: 0.4804 - accuracy: 0.8818 - val_loss: 1.4318 - val_accuracy: 0.7308\n",
            "Epoch 11/50\n",
            "63/63 - 91s - loss: 0.3577 - accuracy: 0.9098 - val_loss: 1.5070 - val_accuracy: 0.6538\n",
            "Epoch 12/50\n",
            "63/63 - 91s - loss: 0.2996 - accuracy: 0.9238 - val_loss: 0.7169 - val_accuracy: 0.7692\n",
            "Epoch 13/50\n",
            "63/63 - 92s - loss: 0.4044 - accuracy: 0.9018 - val_loss: 1.0921 - val_accuracy: 0.7500\n",
            "Epoch 14/50\n",
            "63/63 - 91s - loss: 0.4429 - accuracy: 0.8998 - val_loss: 1.4162 - val_accuracy: 0.7115\n",
            "Epoch 15/50\n",
            "63/63 - 90s - loss: 0.2463 - accuracy: 0.9359 - val_loss: 1.2844 - val_accuracy: 0.7308\n",
            "Epoch 16/50\n",
            "63/63 - 90s - loss: 0.5155 - accuracy: 0.9018 - val_loss: 1.1328 - val_accuracy: 0.7885\n",
            "Epoch 17/50\n",
            "63/63 - 91s - loss: 0.3442 - accuracy: 0.9078 - val_loss: 1.8013 - val_accuracy: 0.6538\n",
            "Epoch 18/50\n",
            "63/63 - 91s - loss: 0.4319 - accuracy: 0.8998 - val_loss: 1.6203 - val_accuracy: 0.7308\n",
            "Epoch 19/50\n",
            "63/63 - 91s - loss: 0.3605 - accuracy: 0.9078 - val_loss: 1.7758 - val_accuracy: 0.6923\n",
            "Epoch 20/50\n",
            "63/63 - 92s - loss: 0.4081 - accuracy: 0.9158 - val_loss: 0.6387 - val_accuracy: 0.8077\n",
            "Epoch 21/50\n",
            "63/63 - 93s - loss: 0.3421 - accuracy: 0.9379 - val_loss: 1.3349 - val_accuracy: 0.7115\n",
            "Epoch 22/50\n",
            "63/63 - 92s - loss: 0.3641 - accuracy: 0.9238 - val_loss: 1.6131 - val_accuracy: 0.6923\n",
            "Epoch 23/50\n",
            "63/63 - 92s - loss: 0.2186 - accuracy: 0.9439 - val_loss: 1.5798 - val_accuracy: 0.7115\n",
            "Epoch 24/50\n",
            "63/63 - 91s - loss: 0.2076 - accuracy: 0.9519 - val_loss: 0.9952 - val_accuracy: 0.8077\n",
            "Epoch 25/50\n",
            "63/63 - 92s - loss: 0.1791 - accuracy: 0.9479 - val_loss: 1.2267 - val_accuracy: 0.7692\n",
            "Epoch 26/50\n",
            "63/63 - 92s - loss: 0.2201 - accuracy: 0.9419 - val_loss: 0.9387 - val_accuracy: 0.7885\n",
            "Epoch 27/50\n",
            "63/63 - 91s - loss: 0.2198 - accuracy: 0.9399 - val_loss: 0.5159 - val_accuracy: 0.9038\n",
            "Epoch 28/50\n",
            "63/63 - 92s - loss: 0.3186 - accuracy: 0.9339 - val_loss: 1.1648 - val_accuracy: 0.7692\n",
            "Epoch 29/50\n",
            "63/63 - 92s - loss: 0.1919 - accuracy: 0.9519 - val_loss: 0.6739 - val_accuracy: 0.8269\n",
            "Epoch 30/50\n",
            "63/63 - 91s - loss: 0.2439 - accuracy: 0.9459 - val_loss: 1.1652 - val_accuracy: 0.7692\n",
            "Epoch 31/50\n"
          ],
          "name": "stdout"
        }
      ]
    },
    {
      "cell_type": "markdown",
      "metadata": {
        "id": "rdljfrlAZ6zm"
      },
      "source": [
        "Dengan menggunakan transfer learning prediksi model kita menjadi lebih baik tanpa harus melatih model dari awal sekali untuk mengenali fitur-fitur pada gambar."
      ]
    }
  ]
}